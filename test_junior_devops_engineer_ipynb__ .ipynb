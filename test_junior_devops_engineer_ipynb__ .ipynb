{
  "nbformat": 4,
  "nbformat_minor": 0,
  "metadata": {
    "colab": {
      "provenance": []
    },
    "kernelspec": {
      "name": "python3",
      "display_name": "Python 3"
    },
    "language_info": {
      "name": "python"
    }
  },
  "cells": [
    {
      "cell_type": "code",
      "execution_count": null,
      "metadata": {
        "id": "YZ58GDg7WBT-"
      },
      "outputs": [],
      "source": []
    },
    {
      "cell_type": "markdown",
      "source": [
        "Для выполнения задачи напишем Bash-скрипт и создадим systemd-юнит для его автоматического запуска при старте системы. Скрипт будет проверять процесс test, отправлять запросы на сервер мониторинга и вести логирование."
      ],
      "metadata": {
        "id": "UyaKmhcrWCy3"
      }
    },
    {
      "cell_type": "code",
      "source": [
        "1. Bash-скрипт\n",
        "Создадим файл /usr/local/bin/monitor_test.sh с содержимым:"
      ],
      "metadata": {
        "id": "UVl5SeAjWN6X"
      },
      "execution_count": null,
      "outputs": []
    },
    {
      "cell_type": "code",
      "source": [
        "#!/bin/bash\n",
        "\n",
        "# Лог-файл\n",
        "LOG_FILE=\"/var/log/monitoring.log\"\n",
        "\n",
        "# URL для мониторинга\n",
        "MONITORING_URL=\"https://test.com/monitoring/test/api\"\n",
        "\n",
        "# Имя процесса\n",
        "PROCESS_NAME=\"test\"\n",
        "\n",
        "# Функция для записи в лог\n",
        "log_message() {\n",
        "    echo \"$(date '+%Y-%m-%d %H:%M:%S') $1\" >> \"$LOG_FILE\"\n",
        "}\n",
        "\n",
        "# Проверяем, запущен ли процесс\n",
        "if pgrep -x \"$PROCESS_NAME\" > /dev/null; then\n",
        "    # Если процесс запущен, отправляем запрос на сервер мониторинга\n",
        "    if ! curl -s -o /dev/null -w \"%{http_code}\" \"$MONITORING_URL\" | grep -q \"200\"; then\n",
        "        log_message \"Сервер мониторинга недоступен\"\n",
        "    fi\n",
        "\n",
        "    # Проверяем, был ли процесс перезапущен\n",
        "    if [ ! -f \"/tmp/${PROCESS_NAME}_pid\" ]; then\n",
        "        # Сохраняем PID процесса\n",
        "        pgrep -x \"$PROCESS_NAME\" > \"/tmp/${PROCESS_NAME}_pid\"\n",
        "    else\n",
        "        # Сравниваем текущий PID с сохраненным\n",
        "        SAVED_PID=$(cat \"/tmp/${PROCESS_NAME}_pid\")\n",
        "        CURRENT_PID=$(pgrep -x \"$PROCESS_NAME\")\n",
        "        if [ \"$SAVED_PID\" != \"$CURRENT_PID\" ]; then\n",
        "            log_message \"Процесс $PROCESS_NAME был перезапущен\"\n",
        "            echo \"$CURRENT_PID\" > \"/tmp/${PROCESS_NAME}_pid\"\n",
        "        fi\n",
        "    fi\n",
        "fi"
      ],
      "metadata": {
        "id": "VDRh8wWYWXxN"
      },
      "execution_count": null,
      "outputs": []
    },
    {
      "cell_type": "markdown",
      "source": [
        "Не забудьте сделать скрипт исполняемым:"
      ],
      "metadata": {
        "id": "gmAJ5Cp3Xj0c"
      }
    },
    {
      "cell_type": "code",
      "source": [
        "sudo chmod +x /usr/local/bin/monitor_test.sh"
      ],
      "metadata": {
        "id": "KOEpi9VSXmCP"
      },
      "execution_count": null,
      "outputs": []
    },
    {
      "cell_type": "markdown",
      "source": [
        "Настройка systemd:\n",
        "1. Создание unit-файла systemd:\n",
        "Создайте файл /etc/systemd/system/monitor_test.service с следующим содержимым:"
      ],
      "metadata": {
        "id": "9p7o7ipiYCd9"
      }
    },
    {
      "cell_type": "code",
      "source": [
        "[Unit]\n",
        "Description=Monitor Test Process\n",
        "After=network.target\n",
        "\n",
        "[Service]\n",
        "ExecStart=/usr/local/bin/monitor_test.sh\n",
        "Type=oneshot\n",
        "\n",
        "[Install]\n",
        "WantedBy=multi-user.target"
      ],
      "metadata": {
        "id": "Ggnqa-1xYGpe"
      },
      "execution_count": null,
      "outputs": []
    },
    {
      "cell_type": "markdown",
      "source": [
        "2. Создание таймера systemd:\n",
        "Создайте файл /etc/systemd/system/monitor_test.timer с следующим содержимым:"
      ],
      "metadata": {
        "id": "1ghCjMsfYIxl"
      }
    },
    {
      "cell_type": "code",
      "source": [
        "[Unit]\n",
        "Description=Run Monitor Test Process every minute\n",
        "\n",
        "[Timer]\n",
        "OnBootSec=1min\n",
        "OnUnitActiveSec=1min\n",
        "Unit=monitor_test.service\n",
        "\n",
        "[Install]\n",
        "WantedBy=timers.target"
      ],
      "metadata": {
        "id": "9zJoWhhqYL1F"
      },
      "execution_count": null,
      "outputs": []
    },
    {
      "cell_type": "markdown",
      "source": [
        "3. Активирование и запуск таймера:"
      ],
      "metadata": {
        "id": "CUS4FH8AYQy_"
      }
    },
    {
      "cell_type": "code",
      "source": [
        "sudo systemctl daemon-reload\n",
        "sudo systemctl enable monitor_test.timer\n",
        "sudo systemctl start monitor_test.timer"
      ],
      "metadata": {
        "id": "l3wRGDfzYRj4"
      },
      "execution_count": null,
      "outputs": []
    },
    {
      "cell_type": "markdown",
      "source": [
        "Проверка работы"
      ],
      "metadata": {
        "id": "NIJAVaQ4YiJE"
      }
    },
    {
      "cell_type": "markdown",
      "source": [
        "Убедимся что таймер активен:"
      ],
      "metadata": {
        "id": "t4yC-27MYl2Y"
      }
    },
    {
      "cell_type": "code",
      "source": [
        "systemctl list-timers | grep monitor_test"
      ],
      "metadata": {
        "id": "RGRP1jxhYreX"
      },
      "execution_count": null,
      "outputs": []
    },
    {
      "cell_type": "markdown",
      "source": [
        "Проверим лог-файл /var/log/monitoring.log для подтверждения работы скрипта:"
      ],
      "metadata": {
        "id": "sxMPCl5BYxQF"
      }
    },
    {
      "cell_type": "code",
      "source": [
        "tail -f /var/log/monitoring.log"
      ],
      "metadata": {
        "id": "oPl1pYOFah8y"
      },
      "execution_count": null,
      "outputs": []
    }
  ]
}